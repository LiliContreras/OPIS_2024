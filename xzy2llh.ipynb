{
  "nbformat": 4,
  "nbformat_minor": 0,
  "metadata": {
    "colab": {
      "provenance": [],
      "authorship_tag": "ABX9TyPa9qg4qBMad+cOcB7FhxsZ",
      "include_colab_link": true
    },
    "kernelspec": {
      "name": "python3",
      "display_name": "Python 3"
    },
    "language_info": {
      "name": "python"
    }
  },
  "cells": [
    {
      "cell_type": "markdown",
      "metadata": {
        "id": "view-in-github",
        "colab_type": "text"
      },
      "source": [
        "<a href=\"https://colab.research.google.com/github/LiliContreras/OPIS_2024/blob/GNSS_Tarea/xzy2llh.ipynb\" target=\"_parent\"><img src=\"https://colab.research.google.com/assets/colab-badge.svg\" alt=\"Open In Colab\"/></a>"
      ]
    },
    {
      "cell_type": "code",
      "source": [
        "!pip install getopt"
      ],
      "metadata": {
        "colab": {
          "base_uri": "https://localhost:8080/"
        },
        "id": "umsX1CIsnzDT",
        "outputId": "606956e4-6a57-4bd0-f776-4960dfe62845"
      },
      "execution_count": null,
      "outputs": [
        {
          "output_type": "stream",
          "name": "stdout",
          "text": [
            "\u001b[31mERROR: Could not find a version that satisfies the requirement getopt (from versions: none)\u001b[0m\u001b[31m\n",
            "\u001b[0m\u001b[31mERROR: No matching distribution found for getopt\u001b[0m\u001b[31m\n",
            "\u001b[0m"
          ]
        }
      ]
    },
    {
      "cell_type": "code",
      "execution_count": null,
      "metadata": {
        "id": "2LDpz6tw8dbT"
      },
      "outputs": [],
      "source": [
        "#!/bin/python3\n",
        "import getopt #necesario para leer la lista de argumentos\n",
        "import os\n",
        "import sys\n",
        "import matplotlib.pyplot as plt"
      ]
    },
    {
      "cell_type": "code",
      "source": [
        "def main(argv):\n",
        "   global X\n",
        "   global Y\n",
        "   global Z\n",
        "   if len(sys.argv[1:]) < 1:\n",
        "      print ('Usage: xyz2llh.py --xyz <X Y Z>')\n",
        "      print ('-h for a detail help message.')\n",
        "      sys.exit(2)\n",
        "   try:\n",
        "       opts,args = getopt.getopt(argv,\"h\",[\"xyz=\"])\n",
        "   except getopt.GetoptError:\n",
        "      print ('xyz2llh.py --xyz <X,Y,Z>')\n",
        "      sys.exit(2)\n",
        "   for opt,arg in opts:\n",
        "      if opt == '-h':\n",
        "         print ('    xyz2llh.py --xyz <X,Y,Z>         ')\n",
        "         print ('                                            ')\n",
        "         print (' Este programa convierte de coordenas X,Y,Z ')\n",
        "         print (' a latitud longitus y altura, de coordenadas')\n",
        "         print (' cartesianas a geodesicas.                  ')\n",
        "         print ('                                            ')\n",
        "         print (' X Y Z esta dado en km.                     ')\n",
        "         print ('                                            ')\n",
        "         print (' Para hacer la conversion se considera el   ')\n",
        "         print (' elipoise WGS84.                            ')\n",
        "         print ('                                            ')\n",
        "         print ('                                            ')\n",
        "         sys.exit(2)\n",
        "      elif opt in (\"--xyz\"):\n",
        "          X,Y,Z = map(float,arg.split(\",\"))\n",
        "\n"
      ],
      "metadata": {
        "id": "paKZlLz58wl0"
      },
      "execution_count": null,
      "outputs": []
    },
    {
      "cell_type": "code",
      "source": [
        "def xyz2gd (X,Y,Z):\n",
        "    from numpy import matrix\n",
        "    from numpy import linalg\n",
        "    import numpy as np\n",
        "    import fileinput\n",
        "    import math\n",
        "    import sys\n",
        "    import os\n",
        "    import subprocess\n",
        "    \"\"\"\n",
        "    Argumentos de entrada:\n",
        "       X,Y,Z coordenadas rectangulares que deben de estar en km.\n",
        "    Argumentos de salida:\n",
        "       alat1 Latitud en radianes\n",
        "       along1 Longitud (positiva al este) en radianes.\n",
        "       hght1 Altura elipsoidal\n",
        "\n",
        "    \"\"\"\n",
        "    # Valores del elipsoide de referencia WGS84\n",
        "    semi = 6378.137 #semi axis a en km\n",
        "    finv = 298.257223563\n",
        "    twopi= 8*math.atan(1.)\n",
        "    f= 1/finv\n",
        "    b = -f*semi +semi\n",
        "    ep2 = (semi*semi - b*b)/(b*b)\n",
        "    e2 = 2*f - f*f\n",
        "    sqr = math.sqrt(X**(2)+Y**(2))\n",
        "######################################\n",
        "    if (sqr == 0.0):\n",
        "       alat1 = twopi/4*np.sign(Z)\n",
        "       along1 = 0.0\n",
        "       hght = Z - math.sqrt(b2)\n",
        "    else:\n",
        "       alat1 = math.atan(((finv/(1.0-finv))**2)*Z/sqr)\n",
        "       #alat2 = math.atan(Z/((1-e2)*sqr)) #igual a alat1\n",
        "#### Calculando longitud\n",
        "       if (X == 0.0):\n",
        "          if (Y < 0.0):\n",
        "             along1 = 3*twopi/4\n",
        "          else:\n",
        "             along1 = twopi/4\n",
        "       else:\n",
        "          along1 = math.atan2(Y,X)\n",
        "#### Caculando la altura\n",
        "       sinlat = math.sin(alat1)\n",
        "       coslat = math.cos(alat1)\n",
        "       N = (semi**2)/(math.sqrt(semi**2*coslat**2+b**2*sinlat**2))\n",
        "       d1 = 1.0/math.sqrt(semi*semi*coslat**2 + b*b*sinlat**2)\n",
        "       x0 = semi*semi*coslat*d1\n",
        "       y0 = b*b*sinlat*d1\n",
        "       hght1 = (math.sqrt((sqr-x0)**2+(Z-y0)**2)*np.sign(sqr**2+Z**2-math.sqrt(x0**2+y0**2)))*1000 # se mul por mil para pasar a metros\n",
        "       alongdegree1 = math.degrees(along1)\n",
        "       alatdegree1 = math.degrees(alat1)\n",
        "       #print (alongdegree1,alatdegree1,hght1)\n",
        "    return (along1,alat1,hght1,alongdegree1,alatdegree1)\n",
        "\n",
        "if __name__ == \"__main__\":\n",
        "   main(sys.argv[1:])\n",
        "\n"
      ],
      "metadata": {
        "id": "JM-ytvPp9Ia-",
        "colab": {
          "base_uri": "https://localhost:8080/",
          "height": 1000
        },
        "outputId": "448a4141-873e-40e2-8697-bd966c999938"
      },
      "execution_count": null,
      "outputs": [
        {
          "output_type": "stream",
          "name": "stderr",
          "text": [
            "ERROR:root:Internal Python error in the inspect module.\n",
            "Below is the traceback from this internal error.\n",
            "\n"
          ]
        },
        {
          "output_type": "stream",
          "name": "stdout",
          "text": [
            "xyz2llh.py --xyz <X,Y,Z>\n",
            "Traceback (most recent call last):\n",
            "  File \"<ipython-input-2-e3c627eced02>\", line 10, in main\n",
            "    opts,args = getopt.getopt(argv,\"h\",[\"xyz=\"])\n",
            "  File \"/usr/lib/python3.10/getopt.py\", line 95, in getopt\n",
            "    opts, args = do_shorts(opts, args[0][1:], shortopts, args[1:])\n",
            "  File \"/usr/lib/python3.10/getopt.py\", line 195, in do_shorts\n",
            "    if short_has_arg(opt, shortopts):\n",
            "  File \"/usr/lib/python3.10/getopt.py\", line 211, in short_has_arg\n",
            "    raise GetoptError(_('option -%s not recognized') % opt, opt)\n",
            "getopt.GetoptError: option -f not recognized\n",
            "\n",
            "During handling of the above exception, another exception occurred:\n",
            "\n",
            "Traceback (most recent call last):\n",
            "  File \"/usr/local/lib/python3.10/dist-packages/IPython/core/interactiveshell.py\", line 3553, in run_code\n",
            "    exec(code_obj, self.user_global_ns, self.user_ns)\n",
            "  File \"<ipython-input-3-1a8d55d0ba15>\", line 58, in <cell line: 57>\n",
            "    main(sys.argv[1:])\n",
            "  File \"<ipython-input-2-e3c627eced02>\", line 13, in main\n",
            "    sys.exit(2)\n",
            "SystemExit: 2\n",
            "\n",
            "During handling of the above exception, another exception occurred:\n",
            "\n",
            "Traceback (most recent call last):\n",
            "  File \"/usr/local/lib/python3.10/dist-packages/IPython/core/ultratb.py\", line 1101, in get_records\n",
            "    return _fixed_getinnerframes(etb, number_of_lines_of_context, tb_offset)\n",
            "  File \"/usr/local/lib/python3.10/dist-packages/IPython/core/ultratb.py\", line 248, in wrapped\n",
            "    return f(*args, **kwargs)\n",
            "  File \"/usr/local/lib/python3.10/dist-packages/IPython/core/ultratb.py\", line 281, in _fixed_getinnerframes\n",
            "    records = fix_frame_records_filenames(inspect.getinnerframes(etb, context))\n",
            "  File \"/usr/lib/python3.10/inspect.py\", line 1662, in getinnerframes\n",
            "    frameinfo = (tb.tb_frame,) + getframeinfo(tb, context)\n",
            "AttributeError: 'tuple' object has no attribute 'tb_frame'\n"
          ]
        },
        {
          "output_type": "error",
          "ename": "TypeError",
          "evalue": "object of type 'NoneType' has no len()",
          "traceback": [
            "\u001b[0;31m---------------------------------------------------------------------------\u001b[0m",
            "\u001b[0;31mGetoptError\u001b[0m                               Traceback (most recent call last)",
            "\u001b[0;32m<ipython-input-2-e3c627eced02>\u001b[0m in \u001b[0;36mmain\u001b[0;34m(argv)\u001b[0m\n\u001b[1;32m      9\u001b[0m    \u001b[0;32mtry\u001b[0m\u001b[0;34m:\u001b[0m\u001b[0;34m\u001b[0m\u001b[0;34m\u001b[0m\u001b[0m\n\u001b[0;32m---> 10\u001b[0;31m        \u001b[0mopts\u001b[0m\u001b[0;34m,\u001b[0m\u001b[0margs\u001b[0m \u001b[0;34m=\u001b[0m \u001b[0mgetopt\u001b[0m\u001b[0;34m.\u001b[0m\u001b[0mgetopt\u001b[0m\u001b[0;34m(\u001b[0m\u001b[0margv\u001b[0m\u001b[0;34m,\u001b[0m\u001b[0;34m\"h\"\u001b[0m\u001b[0;34m,\u001b[0m\u001b[0;34m[\u001b[0m\u001b[0;34m\"xyz=\"\u001b[0m\u001b[0;34m]\u001b[0m\u001b[0;34m)\u001b[0m\u001b[0;34m\u001b[0m\u001b[0;34m\u001b[0m\u001b[0m\n\u001b[0m\u001b[1;32m     11\u001b[0m    \u001b[0;32mexcept\u001b[0m \u001b[0mgetopt\u001b[0m\u001b[0;34m.\u001b[0m\u001b[0mGetoptError\u001b[0m\u001b[0;34m:\u001b[0m\u001b[0;34m\u001b[0m\u001b[0;34m\u001b[0m\u001b[0m\n",
            "\u001b[0;32m/usr/lib/python3.10/getopt.py\u001b[0m in \u001b[0;36mgetopt\u001b[0;34m(args, shortopts, longopts)\u001b[0m\n\u001b[1;32m     94\u001b[0m         \u001b[0;32melse\u001b[0m\u001b[0;34m:\u001b[0m\u001b[0;34m\u001b[0m\u001b[0;34m\u001b[0m\u001b[0m\n\u001b[0;32m---> 95\u001b[0;31m             \u001b[0mopts\u001b[0m\u001b[0;34m,\u001b[0m \u001b[0margs\u001b[0m \u001b[0;34m=\u001b[0m \u001b[0mdo_shorts\u001b[0m\u001b[0;34m(\u001b[0m\u001b[0mopts\u001b[0m\u001b[0;34m,\u001b[0m \u001b[0margs\u001b[0m\u001b[0;34m[\u001b[0m\u001b[0;36m0\u001b[0m\u001b[0;34m]\u001b[0m\u001b[0;34m[\u001b[0m\u001b[0;36m1\u001b[0m\u001b[0;34m:\u001b[0m\u001b[0;34m]\u001b[0m\u001b[0;34m,\u001b[0m \u001b[0mshortopts\u001b[0m\u001b[0;34m,\u001b[0m \u001b[0margs\u001b[0m\u001b[0;34m[\u001b[0m\u001b[0;36m1\u001b[0m\u001b[0;34m:\u001b[0m\u001b[0;34m]\u001b[0m\u001b[0;34m)\u001b[0m\u001b[0;34m\u001b[0m\u001b[0;34m\u001b[0m\u001b[0m\n\u001b[0m\u001b[1;32m     96\u001b[0m \u001b[0;34m\u001b[0m\u001b[0m\n",
            "\u001b[0;32m/usr/lib/python3.10/getopt.py\u001b[0m in \u001b[0;36mdo_shorts\u001b[0;34m(opts, optstring, shortopts, args)\u001b[0m\n\u001b[1;32m    194\u001b[0m         \u001b[0mopt\u001b[0m\u001b[0;34m,\u001b[0m \u001b[0moptstring\u001b[0m \u001b[0;34m=\u001b[0m \u001b[0moptstring\u001b[0m\u001b[0;34m[\u001b[0m\u001b[0;36m0\u001b[0m\u001b[0;34m]\u001b[0m\u001b[0;34m,\u001b[0m \u001b[0moptstring\u001b[0m\u001b[0;34m[\u001b[0m\u001b[0;36m1\u001b[0m\u001b[0;34m:\u001b[0m\u001b[0;34m]\u001b[0m\u001b[0;34m\u001b[0m\u001b[0;34m\u001b[0m\u001b[0m\n\u001b[0;32m--> 195\u001b[0;31m         \u001b[0;32mif\u001b[0m \u001b[0mshort_has_arg\u001b[0m\u001b[0;34m(\u001b[0m\u001b[0mopt\u001b[0m\u001b[0;34m,\u001b[0m \u001b[0mshortopts\u001b[0m\u001b[0;34m)\u001b[0m\u001b[0;34m:\u001b[0m\u001b[0;34m\u001b[0m\u001b[0;34m\u001b[0m\u001b[0m\n\u001b[0m\u001b[1;32m    196\u001b[0m             \u001b[0;32mif\u001b[0m \u001b[0moptstring\u001b[0m \u001b[0;34m==\u001b[0m \u001b[0;34m''\u001b[0m\u001b[0;34m:\u001b[0m\u001b[0;34m\u001b[0m\u001b[0;34m\u001b[0m\u001b[0m\n",
            "\u001b[0;32m/usr/lib/python3.10/getopt.py\u001b[0m in \u001b[0;36mshort_has_arg\u001b[0;34m(opt, shortopts)\u001b[0m\n\u001b[1;32m    210\u001b[0m             \u001b[0;32mreturn\u001b[0m \u001b[0mshortopts\u001b[0m\u001b[0;34m.\u001b[0m\u001b[0mstartswith\u001b[0m\u001b[0;34m(\u001b[0m\u001b[0;34m':'\u001b[0m\u001b[0;34m,\u001b[0m \u001b[0mi\u001b[0m\u001b[0;34m+\u001b[0m\u001b[0;36m1\u001b[0m\u001b[0;34m)\u001b[0m\u001b[0;34m\u001b[0m\u001b[0;34m\u001b[0m\u001b[0m\n\u001b[0;32m--> 211\u001b[0;31m     \u001b[0;32mraise\u001b[0m \u001b[0mGetoptError\u001b[0m\u001b[0;34m(\u001b[0m\u001b[0m_\u001b[0m\u001b[0;34m(\u001b[0m\u001b[0;34m'option -%s not recognized'\u001b[0m\u001b[0;34m)\u001b[0m \u001b[0;34m%\u001b[0m \u001b[0mopt\u001b[0m\u001b[0;34m,\u001b[0m \u001b[0mopt\u001b[0m\u001b[0;34m)\u001b[0m\u001b[0;34m\u001b[0m\u001b[0;34m\u001b[0m\u001b[0m\n\u001b[0m\u001b[1;32m    212\u001b[0m \u001b[0;34m\u001b[0m\u001b[0m\n",
            "\u001b[0;31mGetoptError\u001b[0m: option -f not recognized",
            "\nDuring handling of the above exception, another exception occurred:\n",
            "\u001b[0;31mSystemExit\u001b[0m                                Traceback (most recent call last)",
            "    \u001b[0;31m[... skipping hidden 1 frame]\u001b[0m\n",
            "\u001b[0;32m<ipython-input-3-1a8d55d0ba15>\u001b[0m in \u001b[0;36m<cell line: 57>\u001b[0;34m()\u001b[0m\n\u001b[1;32m     57\u001b[0m \u001b[0;32mif\u001b[0m \u001b[0m__name__\u001b[0m \u001b[0;34m==\u001b[0m \u001b[0;34m\"__main__\"\u001b[0m\u001b[0;34m:\u001b[0m\u001b[0;34m\u001b[0m\u001b[0;34m\u001b[0m\u001b[0m\n\u001b[0;32m---> 58\u001b[0;31m    \u001b[0mmain\u001b[0m\u001b[0;34m(\u001b[0m\u001b[0msys\u001b[0m\u001b[0;34m.\u001b[0m\u001b[0margv\u001b[0m\u001b[0;34m[\u001b[0m\u001b[0;36m1\u001b[0m\u001b[0;34m:\u001b[0m\u001b[0;34m]\u001b[0m\u001b[0;34m)\u001b[0m\u001b[0;34m\u001b[0m\u001b[0;34m\u001b[0m\u001b[0m\n\u001b[0m\u001b[1;32m     59\u001b[0m \u001b[0;34m\u001b[0m\u001b[0m\n",
            "\u001b[0;32m<ipython-input-2-e3c627eced02>\u001b[0m in \u001b[0;36mmain\u001b[0;34m(argv)\u001b[0m\n\u001b[1;32m     12\u001b[0m       \u001b[0mprint\u001b[0m \u001b[0;34m(\u001b[0m\u001b[0;34m'xyz2llh.py --xyz <X,Y,Z>'\u001b[0m\u001b[0;34m)\u001b[0m\u001b[0;34m\u001b[0m\u001b[0;34m\u001b[0m\u001b[0m\n\u001b[0;32m---> 13\u001b[0;31m       \u001b[0msys\u001b[0m\u001b[0;34m.\u001b[0m\u001b[0mexit\u001b[0m\u001b[0;34m(\u001b[0m\u001b[0;36m2\u001b[0m\u001b[0;34m)\u001b[0m\u001b[0;34m\u001b[0m\u001b[0;34m\u001b[0m\u001b[0m\n\u001b[0m\u001b[1;32m     14\u001b[0m    \u001b[0;32mfor\u001b[0m \u001b[0mopt\u001b[0m\u001b[0;34m,\u001b[0m\u001b[0marg\u001b[0m \u001b[0;32min\u001b[0m \u001b[0mopts\u001b[0m\u001b[0;34m:\u001b[0m\u001b[0;34m\u001b[0m\u001b[0;34m\u001b[0m\u001b[0m\n",
            "\u001b[0;31mSystemExit\u001b[0m: 2",
            "\nDuring handling of the above exception, another exception occurred:\n",
            "\u001b[0;31mTypeError\u001b[0m                                 Traceback (most recent call last)",
            "    \u001b[0;31m[... skipping hidden 1 frame]\u001b[0m\n",
            "\u001b[0;32m/usr/local/lib/python3.10/dist-packages/IPython/core/interactiveshell.py\u001b[0m in \u001b[0;36mshowtraceback\u001b[0;34m(self, exc_tuple, filename, tb_offset, exception_only, running_compiled_code)\u001b[0m\n\u001b[1;32m   2090\u001b[0m                     stb = ['An exception has occurred, use %tb to see '\n\u001b[1;32m   2091\u001b[0m                            'the full traceback.\\n']\n\u001b[0;32m-> 2092\u001b[0;31m                     stb.extend(self.InteractiveTB.get_exception_only(etype,\n\u001b[0m\u001b[1;32m   2093\u001b[0m                                                                      value))\n\u001b[1;32m   2094\u001b[0m                 \u001b[0;32melse\u001b[0m\u001b[0;34m:\u001b[0m\u001b[0;34m\u001b[0m\u001b[0;34m\u001b[0m\u001b[0m\n",
            "\u001b[0;32m/usr/local/lib/python3.10/dist-packages/IPython/core/ultratb.py\u001b[0m in \u001b[0;36mget_exception_only\u001b[0;34m(self, etype, value)\u001b[0m\n\u001b[1;32m    752\u001b[0m         \u001b[0mvalue\u001b[0m \u001b[0;34m:\u001b[0m \u001b[0mexception\u001b[0m \u001b[0mvalue\u001b[0m\u001b[0;34m\u001b[0m\u001b[0;34m\u001b[0m\u001b[0m\n\u001b[1;32m    753\u001b[0m         \"\"\"\n\u001b[0;32m--> 754\u001b[0;31m         \u001b[0;32mreturn\u001b[0m \u001b[0mListTB\u001b[0m\u001b[0;34m.\u001b[0m\u001b[0mstructured_traceback\u001b[0m\u001b[0;34m(\u001b[0m\u001b[0mself\u001b[0m\u001b[0;34m,\u001b[0m \u001b[0metype\u001b[0m\u001b[0;34m,\u001b[0m \u001b[0mvalue\u001b[0m\u001b[0;34m)\u001b[0m\u001b[0;34m\u001b[0m\u001b[0;34m\u001b[0m\u001b[0m\n\u001b[0m\u001b[1;32m    755\u001b[0m \u001b[0;34m\u001b[0m\u001b[0m\n\u001b[1;32m    756\u001b[0m     \u001b[0;32mdef\u001b[0m \u001b[0mshow_exception_only\u001b[0m\u001b[0;34m(\u001b[0m\u001b[0mself\u001b[0m\u001b[0;34m,\u001b[0m \u001b[0metype\u001b[0m\u001b[0;34m,\u001b[0m \u001b[0mevalue\u001b[0m\u001b[0;34m)\u001b[0m\u001b[0;34m:\u001b[0m\u001b[0;34m\u001b[0m\u001b[0;34m\u001b[0m\u001b[0m\n",
            "\u001b[0;32m/usr/local/lib/python3.10/dist-packages/IPython/core/ultratb.py\u001b[0m in \u001b[0;36mstructured_traceback\u001b[0;34m(self, etype, evalue, etb, tb_offset, context)\u001b[0m\n\u001b[1;32m    627\u001b[0m             \u001b[0mchained_exceptions_tb_offset\u001b[0m \u001b[0;34m=\u001b[0m \u001b[0;36m0\u001b[0m\u001b[0;34m\u001b[0m\u001b[0;34m\u001b[0m\u001b[0m\n\u001b[1;32m    628\u001b[0m             out_list = (\n\u001b[0;32m--> 629\u001b[0;31m                 self.structured_traceback(\n\u001b[0m\u001b[1;32m    630\u001b[0m                     \u001b[0metype\u001b[0m\u001b[0;34m,\u001b[0m \u001b[0mevalue\u001b[0m\u001b[0;34m,\u001b[0m \u001b[0;34m(\u001b[0m\u001b[0metb\u001b[0m\u001b[0;34m,\u001b[0m \u001b[0mchained_exc_ids\u001b[0m\u001b[0;34m)\u001b[0m\u001b[0;34m,\u001b[0m\u001b[0;34m\u001b[0m\u001b[0;34m\u001b[0m\u001b[0m\n\u001b[1;32m    631\u001b[0m                     chained_exceptions_tb_offset, context)\n",
            "\u001b[0;32m/usr/local/lib/python3.10/dist-packages/IPython/core/ultratb.py\u001b[0m in \u001b[0;36mstructured_traceback\u001b[0;34m(self, etype, value, tb, tb_offset, number_of_lines_of_context)\u001b[0m\n\u001b[1;32m   1365\u001b[0m         \u001b[0;32melse\u001b[0m\u001b[0;34m:\u001b[0m\u001b[0;34m\u001b[0m\u001b[0;34m\u001b[0m\u001b[0m\n\u001b[1;32m   1366\u001b[0m             \u001b[0mself\u001b[0m\u001b[0;34m.\u001b[0m\u001b[0mtb\u001b[0m \u001b[0;34m=\u001b[0m \u001b[0mtb\u001b[0m\u001b[0;34m\u001b[0m\u001b[0;34m\u001b[0m\u001b[0m\n\u001b[0;32m-> 1367\u001b[0;31m         return FormattedTB.structured_traceback(\n\u001b[0m\u001b[1;32m   1368\u001b[0m             self, etype, value, tb, tb_offset, number_of_lines_of_context)\n\u001b[1;32m   1369\u001b[0m \u001b[0;34m\u001b[0m\u001b[0m\n",
            "\u001b[0;32m/usr/local/lib/python3.10/dist-packages/IPython/core/ultratb.py\u001b[0m in \u001b[0;36mstructured_traceback\u001b[0;34m(self, etype, value, tb, tb_offset, number_of_lines_of_context)\u001b[0m\n\u001b[1;32m   1265\u001b[0m         \u001b[0;32mif\u001b[0m \u001b[0mmode\u001b[0m \u001b[0;32min\u001b[0m \u001b[0mself\u001b[0m\u001b[0;34m.\u001b[0m\u001b[0mverbose_modes\u001b[0m\u001b[0;34m:\u001b[0m\u001b[0;34m\u001b[0m\u001b[0;34m\u001b[0m\u001b[0m\n\u001b[1;32m   1266\u001b[0m             \u001b[0;31m# Verbose modes need a full traceback\u001b[0m\u001b[0;34m\u001b[0m\u001b[0;34m\u001b[0m\u001b[0m\n\u001b[0;32m-> 1267\u001b[0;31m             return VerboseTB.structured_traceback(\n\u001b[0m\u001b[1;32m   1268\u001b[0m                 \u001b[0mself\u001b[0m\u001b[0;34m,\u001b[0m \u001b[0metype\u001b[0m\u001b[0;34m,\u001b[0m \u001b[0mvalue\u001b[0m\u001b[0;34m,\u001b[0m \u001b[0mtb\u001b[0m\u001b[0;34m,\u001b[0m \u001b[0mtb_offset\u001b[0m\u001b[0;34m,\u001b[0m \u001b[0mnumber_of_lines_of_context\u001b[0m\u001b[0;34m\u001b[0m\u001b[0;34m\u001b[0m\u001b[0m\n\u001b[1;32m   1269\u001b[0m             )\n",
            "\u001b[0;32m/usr/local/lib/python3.10/dist-packages/IPython/core/ultratb.py\u001b[0m in \u001b[0;36mstructured_traceback\u001b[0;34m(self, etype, evalue, etb, tb_offset, number_of_lines_of_context)\u001b[0m\n\u001b[1;32m   1122\u001b[0m         \u001b[0;34m\"\"\"Return a nice text document describing the traceback.\"\"\"\u001b[0m\u001b[0;34m\u001b[0m\u001b[0;34m\u001b[0m\u001b[0m\n\u001b[1;32m   1123\u001b[0m \u001b[0;34m\u001b[0m\u001b[0m\n\u001b[0;32m-> 1124\u001b[0;31m         formatted_exception = self.format_exception_as_a_whole(etype, evalue, etb, number_of_lines_of_context,\n\u001b[0m\u001b[1;32m   1125\u001b[0m                                                                tb_offset)\n\u001b[1;32m   1126\u001b[0m \u001b[0;34m\u001b[0m\u001b[0m\n",
            "\u001b[0;32m/usr/local/lib/python3.10/dist-packages/IPython/core/ultratb.py\u001b[0m in \u001b[0;36mformat_exception_as_a_whole\u001b[0;34m(self, etype, evalue, etb, number_of_lines_of_context, tb_offset)\u001b[0m\n\u001b[1;32m   1080\u001b[0m \u001b[0;34m\u001b[0m\u001b[0m\n\u001b[1;32m   1081\u001b[0m \u001b[0;34m\u001b[0m\u001b[0m\n\u001b[0;32m-> 1082\u001b[0;31m         \u001b[0mlast_unique\u001b[0m\u001b[0;34m,\u001b[0m \u001b[0mrecursion_repeat\u001b[0m \u001b[0;34m=\u001b[0m \u001b[0mfind_recursion\u001b[0m\u001b[0;34m(\u001b[0m\u001b[0morig_etype\u001b[0m\u001b[0;34m,\u001b[0m \u001b[0mevalue\u001b[0m\u001b[0;34m,\u001b[0m \u001b[0mrecords\u001b[0m\u001b[0;34m)\u001b[0m\u001b[0;34m\u001b[0m\u001b[0;34m\u001b[0m\u001b[0m\n\u001b[0m\u001b[1;32m   1083\u001b[0m \u001b[0;34m\u001b[0m\u001b[0m\n\u001b[1;32m   1084\u001b[0m         \u001b[0mframes\u001b[0m \u001b[0;34m=\u001b[0m \u001b[0mself\u001b[0m\u001b[0;34m.\u001b[0m\u001b[0mformat_records\u001b[0m\u001b[0;34m(\u001b[0m\u001b[0mrecords\u001b[0m\u001b[0;34m,\u001b[0m \u001b[0mlast_unique\u001b[0m\u001b[0;34m,\u001b[0m \u001b[0mrecursion_repeat\u001b[0m\u001b[0;34m)\u001b[0m\u001b[0;34m\u001b[0m\u001b[0;34m\u001b[0m\u001b[0m\n",
            "\u001b[0;32m/usr/local/lib/python3.10/dist-packages/IPython/core/ultratb.py\u001b[0m in \u001b[0;36mfind_recursion\u001b[0;34m(etype, value, records)\u001b[0m\n\u001b[1;32m    380\u001b[0m     \u001b[0;31m# first frame (from in to out) that looks different.\u001b[0m\u001b[0;34m\u001b[0m\u001b[0;34m\u001b[0m\u001b[0m\n\u001b[1;32m    381\u001b[0m     \u001b[0;32mif\u001b[0m \u001b[0;32mnot\u001b[0m \u001b[0mis_recursion_error\u001b[0m\u001b[0;34m(\u001b[0m\u001b[0metype\u001b[0m\u001b[0;34m,\u001b[0m \u001b[0mvalue\u001b[0m\u001b[0;34m,\u001b[0m \u001b[0mrecords\u001b[0m\u001b[0;34m)\u001b[0m\u001b[0;34m:\u001b[0m\u001b[0;34m\u001b[0m\u001b[0;34m\u001b[0m\u001b[0m\n\u001b[0;32m--> 382\u001b[0;31m         \u001b[0;32mreturn\u001b[0m \u001b[0mlen\u001b[0m\u001b[0;34m(\u001b[0m\u001b[0mrecords\u001b[0m\u001b[0;34m)\u001b[0m\u001b[0;34m,\u001b[0m \u001b[0;36m0\u001b[0m\u001b[0;34m\u001b[0m\u001b[0;34m\u001b[0m\u001b[0m\n\u001b[0m\u001b[1;32m    383\u001b[0m \u001b[0;34m\u001b[0m\u001b[0m\n\u001b[1;32m    384\u001b[0m     \u001b[0;31m# Select filename, lineno, func_name to track frames with\u001b[0m\u001b[0;34m\u001b[0m\u001b[0;34m\u001b[0m\u001b[0m\n",
            "\u001b[0;31mTypeError\u001b[0m: object of type 'NoneType' has no len()"
          ]
        }
      ]
    },
    {
      "cell_type": "code",
      "source": [
        "#CGIG:\n",
        "X=-1.70036516466301e+06\n",
        "Y=-5.24024040078408e+06\n",
        "Z=3.20612675878184e+06\n",
        "\n",
        "coord = xyz2gd(X,Y,Z)\n",
        "CGIG_long1 = \"{:.11f}\".format(coord[3])\n",
        "CGIG_lat = \"{:.11f}\".format(coord[4])\n",
        "CGIG_alt = \"{:.11f}\".format(coord[2])\n",
        "print (CGIG_long1,CGIG_lat,CGIG_alt)"
      ],
      "metadata": {
        "colab": {
          "base_uri": "https://localhost:8080/"
        },
        "id": "2hHOsg0PxyGX",
        "outputId": "9d56c58d-4932-443d-b641-ddbc4a560c83"
      },
      "execution_count": null,
      "outputs": [
        {
          "output_type": "stream",
          "name": "stdout",
          "text": [
            "-107.97732831602 30.36518654804 6367841750.61698150635\n"
          ]
        }
      ]
    },
    {
      "cell_type": "code",
      "source": [
        "#COMI:\n",
        "X=-2.28400717630000e+05\n",
        "Y=-6.12123948008000e+06\n",
        "Z=1.77714279056000e+06\n",
        "\n",
        "coord = xyz2gd(X,Y,Z)\n",
        "COMI_long1 = \"{:.11f}\".format(coord[3])\n",
        "COMI_lat = \"{:.11f}\".format(coord[4])\n",
        "COMI_alt = \"{:.11f}\".format(coord[2])\n",
        "print (COMI_long1,COMI_lat,COMI_alt)"
      ],
      "metadata": {
        "colab": {
          "base_uri": "https://localhost:8080/"
        },
        "id": "_9K4fyocyVPm",
        "outputId": "35e6cd4f-297c-4f46-fc12-6b9fe8126e94"
      },
      "execution_count": null,
      "outputs": [
        {
          "output_type": "stream",
          "name": "stdout",
          "text": [
            "-92.13687588999 16.28189039492 6371709149.56900024414\n"
          ]
        }
      ]
    },
    {
      "cell_type": "code",
      "source": [
        "#CRIG:\n",
        "X=-9.69586776000000e+05\n",
        "Y=-6.03231701200000e+06\n",
        "Z=1.82493936100000e+06\n",
        "\n",
        "coord = xyz2gd(X,Y,Z)\n",
        "CRIG_long1 = \"{:.11f}\".format(coord[3])\n",
        "CRIG_lat = \"{:.11f}\".format(coord[4])\n",
        "CRIG_alt = \"{:.11f}\".format(coord[2])\n",
        "print (CRIG_long1,CRIG_lat,CRIG_alt)"
      ],
      "metadata": {
        "colab": {
          "base_uri": "https://localhost:8080/"
        },
        "id": "9hMwjUO_ylJa",
        "outputId": "77663425-d028-4fae-bc3a-016bdaed14b5"
      },
      "execution_count": null,
      "outputs": [
        {
          "output_type": "stream",
          "name": "stdout",
          "text": [
            "-99.13116956339 16.73636904000 6370092137.58104228973\n"
          ]
        }
      ]
    },
    {
      "cell_type": "code",
      "source": [
        "#CSIG:\n",
        "X=-1.79498039640000e+06\n",
        "Y=-5.40499762970000e+06\n",
        "Z=2.86210481138000e+06\n",
        "\n",
        "coord = xyz2gd(X,Y,Z)\n",
        "CSIG_long1 = \"{:.11f}\".format(coord[3])\n",
        "CSIG_lat = \"{:.11f}\".format(coord[4])\n",
        "CSIG_alt = \"{:.11f}\".format(coord[2])\n",
        "print (CSIG_long1,CSIG_lat,CSIG_alt)"
      ],
      "metadata": {
        "colab": {
          "base_uri": "https://localhost:8080/"
        },
        "id": "g82DLADHy5Wk",
        "outputId": "35cae02b-2b4d-4e0c-80a6-b9a83493525d"
      },
      "execution_count": null,
      "outputs": [
        {
          "output_type": "stream",
          "name": "stdout",
          "text": [
            "-108.37114256961 26.83615710693 6367604380.95587825775\n"
          ]
        }
      ]
    },
    {
      "cell_type": "code",
      "source": [
        "#DEMA:\n",
        "X=-9.40103420420000e+05\n",
        "Y=-5.91196436589000e+06\n",
        "Z=2.19960295828000e+06\n",
        "\n",
        "coord = xyz2gd(X,Y,Z)\n",
        "DEMA_long1 = \"{:.11f}\".format(coord[3])\n",
        "DEMA_lat = \"{:.11f}\".format(coord[4])\n",
        "DEMA_alt = \"{:.11f}\".format(coord[2])\n",
        "print (DEMA_long1,DEMA_lat,DEMA_alt)"
      ],
      "metadata": {
        "colab": {
          "base_uri": "https://localhost:8080/"
        },
        "id": "jYBn_TQLzGNA",
        "outputId": "8bf2706f-35aa-47ce-d005-07080527a388"
      },
      "execution_count": null,
      "outputs": [
        {
          "output_type": "stream",
          "name": "stdout",
          "text": [
            "-99.03535812003 20.30040651258 6371192158.13801670074\n"
          ]
        }
      ]
    },
    {
      "cell_type": "code",
      "source": [
        "#DOAR:\n",
        "X=-1.02273049400000e+06\n",
        "Y=-6.01440055100000e+06\n",
        "Z=1.85513027660000e+06\n",
        "\n",
        "coord = xyz2gd(X,Y,Z)\n",
        "DOAR_long1 = \"{:.11f}\".format(coord[3])\n",
        "DOAR_lat = \"{:.11f}\".format(coord[4])\n",
        "DOAR_alt = \"{:.11f}\".format(coord[2])\n",
        "print (DOAR_long1,DOAR_lat,DOAR_alt)"
      ],
      "metadata": {
        "colab": {
          "base_uri": "https://localhost:8080/"
        },
        "id": "b3moElQ2zX5H",
        "outputId": "5b92df55-38bd-47e3-dcd1-39096b78d5f8"
      },
      "execution_count": null,
      "outputs": [
        {
          "output_type": "stream",
          "name": "stdout",
          "text": [
            "-99.65065999852 17.02104406606 6370182313.92043399811\n"
          ]
        }
      ]
    },
    {
      "cell_type": "code",
      "source": [
        "#HLIG:\n",
        "X=-8.24895484900000e+05\n",
        "Y=-6.01911620280000e+06\n",
        "Z=1.94101747780000e+06\n",
        "\n",
        "coord = xyz2gd(X,Y,Z)\n",
        "HLIG_long1 = \"{:.11f}\".format(coord[3])\n",
        "HLIG_lat = \"{:.11f}\".format(coord[4])\n",
        "HLIG_alt = \"{:.11f}\".format(coord[2])\n",
        "print (HLIG_long1,HLIG_lat,HLIG_alt)"
      ],
      "metadata": {
        "colab": {
          "base_uri": "https://localhost:8080/"
        },
        "id": "i8U9oPdtzwxz",
        "outputId": "26abbdbe-8676-4c70-ea39-cda3a19aa22d"
      },
      "execution_count": null,
      "outputs": [
        {
          "output_type": "stream",
          "name": "stdout",
          "text": [
            "-97.80354239692 17.82999194853 6371535836.49827766418\n"
          ]
        }
      ]
    },
    {
      "cell_type": "code",
      "source": [
        "#SRIG:\n",
        "X=-2.14638388781929e+06\n",
        "Y=-5.24881714947770e+06\n",
        "Z=2.90974499686177e+06\n",
        "\n",
        "coord = xyz2gd(X,Y,Z)\n",
        "SRIG_long1 = \"{:.11f}\".format(coord[3])\n",
        "SRIG_lat = \"{:.11f}\".format(coord[4])\n",
        "SRIG_alt = \"{:.11f}\".format(coord[2])\n",
        "print (SRIG_long1,SRIG_lat,SRIG_alt)"
      ],
      "metadata": {
        "colab": {
          "base_uri": "https://localhost:8080/"
        },
        "id": "4P5kjBKM0FFc",
        "outputId": "1a79aa4a-8e40-4da0-b4d7-47ea1e59abb5"
      },
      "execution_count": null,
      "outputs": [
        {
          "output_type": "stream",
          "name": "stdout",
          "text": [
            "-112.24098609006 27.31977710015 6367295705.45285606384\n"
          ]
        }
      ]
    },
    {
      "cell_type": "code",
      "source": [
        "#SSIG:\n",
        "X=-1.70762592560000e+06\n",
        "Y=-5.53528529140000e+06\n",
        "Z=2.66069048648000e+06\n",
        "\n",
        "coord = xyz2gd(X,Y,Z)\n",
        "SSIG_long1 = \"{:.11f}\".format(coord[3])\n",
        "SSIG_lat = \"{:.11f}\".format(coord[4])\n",
        "SSIG_alt = \"{:.11f}\".format(coord[2])\n",
        "print (SSIG_long1,SSIG_lat,SSIG_alt)"
      ],
      "metadata": {
        "colab": {
          "base_uri": "https://localhost:8080/"
        },
        "id": "yG8OdibD0UyF",
        "outputId": "66b9c502-102f-4f0f-a1ec-679f55447537"
      },
      "execution_count": null,
      "outputs": [
        {
          "output_type": "stream",
          "name": "stdout",
          "text": [
            "-107.14490375053 24.81645574466 6368156443.62362480164\n"
          ]
        }
      ]
    },
    {
      "cell_type": "code",
      "source": [
        "#TMIG:\n",
        "X=-1.2840671040055e+06\n",
        "Y=-5.88380261504978e+06\n",
        "Z=2.100605670011311e+06\n",
        "\n",
        "coord = xyz2gd(X,Y,Z)\n",
        "TMIG_long1 = \"{:.11f}\".format(coord[3])\n",
        "TMIG_lat = \"{:.11f}\".format(coord[4])\n",
        "TMIG_alt = \"{:.11f}\".format(coord[2])\n",
        "print (TMIG_long1,TMIG_lat,TMIG_alt)"
      ],
      "metadata": {
        "colab": {
          "base_uri": "https://localhost:8080/"
        },
        "id": "sG4EWnWQ0jzu",
        "outputId": "fec6ad9a-3cfb-45a5-b4e3-913864f81b24"
      },
      "execution_count": null,
      "outputs": [
        {
          "output_type": "stream",
          "name": "stdout",
          "text": [
            "-102.31106793885 19.34902959100 6371751325.73618125916\n"
          ]
        }
      ]
    },
    {
      "cell_type": "code",
      "source": [
        "#UCOE:\n",
        "X=-1.21711192330000e+06\n",
        "Y=-5.88009342170000e+06\n",
        "Z=2.14892048560000e+06\n",
        "\n",
        "coord = xyz2gd(X,Y,Z)\n",
        "UCOE_long1 = \"{:.11f}\".format(coord[3])\n",
        "UCOE_lat = \"{:.11f}\".format(coord[4])\n",
        "UCOE_alt = \"{:.11f}\".format(coord[2])\n",
        "print (UCOE_long1,UCOE_lat,UCOE_alt)"
      ],
      "metadata": {
        "colab": {
          "base_uri": "https://localhost:8080/"
        },
        "id": "sqsyZpra04W7",
        "outputId": "45125199-bb36-4091-8364-3d267ed90c0f"
      },
      "execution_count": null,
      "outputs": [
        {
          "output_type": "stream",
          "name": "stdout",
          "text": [
            "-101.69442300050 19.81321810709 6371297806.60638046265\n"
          ]
        }
      ]
    },
    {
      "cell_type": "code",
      "source": [
        "#ZIHU:\n",
        "X=-1.20875579292000e+06\n",
        "Y=-5.95988200305000e+06\n",
        "Z=1.91696605170000e+06\n",
        "\n",
        "coord = xyz2gd(X,Y,Z)\n",
        "ZIHU_long1 = \"{:.11f}\".format(coord[3])\n",
        "ZIHU_lat = \"{:.11f}\".format(coord[4])\n",
        "ZIHU_alt = \"{:.11f}\".format(coord[2])\n",
        "print (ZIHU_long1,ZIHU_lat,ZIHU_alt)"
      ],
      "metadata": {
        "colab": {
          "base_uri": "https://localhost:8080/"
        },
        "id": "CvmcMFKa1IGh",
        "outputId": "a52744d2-9e8e-45c0-acbb-1b015063ca25"
      },
      "execution_count": null,
      "outputs": [
        {
          "output_type": "stream",
          "name": "stdout",
          "text": [
            "-101.46495390002 17.60691296224 6369832937.20165348053\n"
          ]
        }
      ]
    },
    {
      "cell_type": "code",
      "source": [
        "EstacionesXno=[CGIG_long1,COMI_long1,CRIG_long1,CSIG_long1,DEMA_long1,DOAR_long1,HLIG_long1,SRIG_long1,SSIG_long1,TMIG_long1,UCOE_long1,ZIHU_long1]\n",
        "EstacionesYno=[CGIG_lat,COMI_lat,CRIG_lat,CSIG_lat,DEMA_lat,DOAR_lat,HLIG_lat,SRIG_lat,SSIG_lat,TMIG_lat,UCOE_lat,ZIHU_lat]\n",
        "nombresNO = ['CGIG', 'COMI', 'CRIG', 'CSIG', 'DEMA', 'DOAR', 'HLIG','SRIG','SSIG','TMIG','UCOE','ZIHU']"
      ],
      "metadata": {
        "id": "f436cjIR1W4x"
      },
      "execution_count": null,
      "outputs": []
    },
    {
      "cell_type": "code",
      "source": [
        "import csv\n",
        "\n",
        "# Combinar las variables en una lista de tuplas\n",
        "data = zip(nombresNO, EstacionesXno, EstacionesYno)\n",
        "\n",
        "# Nombre del archivo CSV\n",
        "nombre_archivo = 'estacionesNO.csv'\n",
        "\n",
        "# Escribir los datos en el archivo CSV\n",
        "with open(nombre_archivo, 'w', newline='') as archivo:\n",
        "    escritor_csv = csv.writer(archivo)\n",
        "\n",
        "    # Escribir encabezados\n",
        "    escritor_csv.writerow(['Nombre', 'Longitud', 'Latitud'])\n",
        "\n",
        "    # Escribir datos\n",
        "    for estacion in data:\n",
        "        escritor_csv.writerow(estacion)"
      ],
      "metadata": {
        "id": "mcm3mFpg2Zcf"
      },
      "execution_count": null,
      "outputs": []
    },
    {
      "cell_type": "code",
      "source": [
        "#FORS:\n",
        "X=-1.41739201113911e+06\n",
        "Y=-5.84815479433737e+06\n",
        "Z=2.11432323393639e+06\n",
        "\n",
        "coord = xyz2gd(X,Y,Z)\n",
        "FORS_long1 = \"{:.11f}\".format(coord[3])\n",
        "FORS_lat = \"{:.11f}\".format(coord[4])\n",
        "FORS_alt = \"{:.11f}\".format(coord[2])\n",
        "print (FORS_long1,FORS_lat,FORS_alt)"
      ],
      "metadata": {
        "id": "aMYu8z249MnS",
        "colab": {
          "base_uri": "https://localhost:8080/"
        },
        "outputId": "21395def-ab45-40e0-be16-e516cb5973b0"
      },
      "execution_count": null,
      "outputs": [
        {
          "output_type": "stream",
          "name": "stdout",
          "text": [
            "-103.62382566435 19.48033278589 6371733453.48999309540\n"
          ]
        }
      ]
    },
    {
      "cell_type": "code",
      "source": [],
      "metadata": {
        "id": "gMRTDouSzvXO"
      },
      "execution_count": null,
      "outputs": []
    },
    {
      "cell_type": "code",
      "source": [
        "#inca:\n",
        "X=-1.41521081500000e+06\n",
        "Y=-5.84783281900000e+06\n",
        "Z=2.11934717000000e+06\n",
        "\n",
        "coord = xyz2gd(X,Y,Z)\n",
        "INCA_long1 = \"{:.11f}\".format(coord[3])\n",
        "INCA_lat = \"{:.11f}\".format(coord[4])\n",
        "INCA_alt = \"{:.11f}\".format(coord[2])\n",
        "print (INCA_long1,INCA_lat,INCA_alt)"
      ],
      "metadata": {
        "colab": {
          "base_uri": "https://localhost:8080/"
        },
        "id": "oIb_Y1tk0acb",
        "outputId": "8fe70d87-7f1c-4618-cb89-f71530e0393a"
      },
      "execution_count": null,
      "outputs": [
        {
          "output_type": "stream",
          "name": "stdout",
          "text": [
            "-103.60436103977 19.52560246791 6372621236.51017475128\n"
          ]
        }
      ]
    },
    {
      "cell_type": "code",
      "source": [
        "#neva:\n",
        "X=-1.41635347267737e+06\n",
        "Y=-5.84673750546506e+06\n",
        "Z=2.12384321500476e+06\n",
        "\n",
        "coord = xyz2gd(X,Y,Z)\n",
        "NEVA_long1 = \"{:.11f}\".format(coord[3])\n",
        "NEVA_lat = \"{:.11f}\".format(coord[4])\n",
        "NEVA_alt = \"{:.11f}\".format(coord[2])\n",
        "print (NEVA_long1,NEVA_lat,NEVA_alt)"
      ],
      "metadata": {
        "colab": {
          "base_uri": "https://localhost:8080/"
        },
        "id": "VstmE24x0vJx",
        "outputId": "c755334d-228a-4bfc-80c8-009536951f55"
      },
      "execution_count": null,
      "outputs": [
        {
          "output_type": "stream",
          "name": "stdout",
          "text": [
            "-103.61739229410 19.56627319823 6373366136.44528007507\n"
          ]
        }
      ]
    },
    {
      "cell_type": "code",
      "source": [
        "#stok:\n",
        "X=-1.42745755240000e+06\n",
        "Y=-5.85202347570000e+06\n",
        "Z=2.09153503370000e+06\n",
        "\n",
        "coord = xyz2gd(X,Y,Z)\n",
        "STOK_long1 = \"{:.11f}\".format(coord[3])\n",
        "STOK_lat = \"{:.11f}\".format(coord[4])\n",
        "STOK_alt = \"{:.11f}\".format(coord[2])\n",
        "print (STOK_long1,STOK_lat,STOK_alt)"
      ],
      "metadata": {
        "colab": {
          "base_uri": "https://localhost:8080/"
        },
        "id": "mdzq3TdT1I6c",
        "outputId": "6abe7fdc-dedb-4e46-e5b5-8e9d3e097804"
      },
      "execution_count": null,
      "outputs": [
        {
          "output_type": "stream",
          "name": "stdout",
          "text": [
            "-103.70820625810 19.26775086594 6370012855.98012733459\n"
          ]
        }
      ]
    },
    {
      "cell_type": "code",
      "source": [
        "#teco:\n",
        "X=-1.44544205740000e+06\n",
        "Y=-5.85784701210000e+06\n",
        "Z=2.06180214600000e+06\n",
        "\n",
        "coord = xyz2gd(X,Y,Z)\n",
        "TECO_long1 = \"{:.11f}\".format(coord[3])\n",
        "TECO_lat = \"{:.11f}\".format(coord[4])\n",
        "TECO_alt = \"{:.11f}\".format(coord[2])\n",
        "print (TECO_long1,TECO_lat,TECO_alt)"
      ],
      "metadata": {
        "colab": {
          "base_uri": "https://localhost:8080/"
        },
        "id": "u9Y47NPE1cBP",
        "outputId": "bcd730c6-5d7b-4cc0-fdeb-e72f5dfd8773"
      },
      "execution_count": null,
      "outputs": [
        {
          "output_type": "stream",
          "name": "stdout",
          "text": [
            "-103.86102100028 18.98455796870 6369728127.13263130188\n"
          ]
        }
      ]
    },
    {
      "cell_type": "code",
      "source": [
        "#tnam:\n",
        "X=-1.44247353930000e+06\n",
        "Y=-5.79975016980000e+06\n",
        "Z=2.22375326930000e+06\n",
        "\n",
        "coord = xyz2gd(X,Y,Z)\n",
        "TNAM_long1 = \"{:.11f}\".format(coord[3])\n",
        "TNAM_lat = \"{:.11f}\".format(coord[4])\n",
        "TNAM_alt = \"{:.11f}\".format(coord[2])\n",
        "print (TNAM_long1,TNAM_lat,TNAM_alt)"
      ],
      "metadata": {
        "colab": {
          "base_uri": "https://localhost:8080/"
        },
        "id": "WdfzWly91uPu",
        "outputId": "93ca9de9-b5c0-488c-f320-be30c2f0bcd5"
      },
      "execution_count": null,
      "outputs": [
        {
          "output_type": "stream",
          "name": "stdout",
          "text": [
            "-103.96682299970 20.53566330427 6370372121.59808158875\n"
          ]
        }
      ]
    },
    {
      "cell_type": "code",
      "source": [
        "#tncc:\n",
        "X=-1.37675799590166e+06\n",
        "Y=-5.88233005041134e+06\n",
        "Z=2.04181700126650e+06\n",
        "\n",
        "coord = xyz2gd(X,Y,Z)\n",
        "TNCC_long1 = \"{:.11f}\".format(coord[3])\n",
        "TNCC_lat = \"{:.11f}\".format(coord[4])\n",
        "TNCC_alt = \"{:.11f}\".format(coord[2])\n",
        "print (TNCC_long1,TNCC_lat,TNCC_alt)"
      ],
      "metadata": {
        "colab": {
          "base_uri": "https://localhost:8080/"
        },
        "id": "89CnetuE2Alc",
        "outputId": "d84b1bfc-b3f4-436b-b292-03e76e02e472"
      },
      "execution_count": null,
      "outputs": [
        {
          "output_type": "stream",
          "name": "stdout",
          "text": [
            "-103.17294544712 18.79109731738 6370636380.42059516907\n"
          ]
        }
      ]
    },
    {
      "cell_type": "code",
      "source": [
        "#tncm:\n",
        "X=-1.56126068040000e+06\n",
        "Y=-5.80852210530000e+06\n",
        "Z=2.11543574010000e+06\n",
        "\n",
        "coord = xyz2gd(X,Y,Z)\n",
        "TNCM_long1 = \"{:.11f}\".format(coord[3])\n",
        "TNCM_lat = \"{:.11f}\".format(coord[4])\n",
        "TNCM_alt = \"{:.11f}\".format(coord[2])\n",
        "print (TNCM_long1,TNCM_lat,TNCM_alt)"
      ],
      "metadata": {
        "colab": {
          "base_uri": "https://localhost:8080/"
        },
        "id": "BF9ahcUj2aD-",
        "outputId": "d860e443-d610-46bc-f04a-951d5ca313eb"
      },
      "execution_count": null,
      "outputs": [
        {
          "output_type": "stream",
          "name": "stdout",
          "text": [
            "-105.04482799986 19.49813958189 6369479647.18431091309\n"
          ]
        }
      ]
    },
    {
      "cell_type": "code",
      "source": [
        "#tnct:\n",
        "X=-1.58112844080000e+06\n",
        "Y=-5.79601585550000e+06\n",
        "Z=2.13449013920000e+06\n",
        "\n",
        "coord = xyz2gd(X,Y,Z)\n",
        "TNCT_long1 = \"{:.11f}\".format(coord[3])\n",
        "TNCT_lat = \"{:.11f}\".format(coord[4])\n",
        "TNCT_alt = \"{:.11f}\".format(coord[2])\n",
        "print (TNCT_long1,TNCT_lat,TNCT_alt)"
      ],
      "metadata": {
        "colab": {
          "base_uri": "https://localhost:8080/"
        },
        "id": "MCVFijUe2xKo",
        "outputId": "a214fb5e-3eee-4d17-9977-3290d213dec9"
      },
      "execution_count": null,
      "outputs": [
        {
          "output_type": "stream",
          "name": "stdout",
          "text": [
            "-105.25877000028 19.68113483255 6369345021.79376792908\n"
          ]
        }
      ]
    },
    {
      "cell_type": "code",
      "source": [
        "#tnlc:\n",
        "X=-1.51092881180000e+06\n",
        "Y=-5.82169440290000e+06\n",
        "Z=2.11633120030000e+06\n",
        "\n",
        "coord = xyz2gd(X,Y,Z)\n",
        "TNLC_long1 = \"{:.11f}\".format(coord[3])\n",
        "TNLC_lat = \"{:.11f}\".format(coord[4])\n",
        "TNLC_alt = \"{:.11f}\".format(coord[2])\n",
        "print (TNLC_long1,TNLC_lat,TNLC_alt)"
      ],
      "metadata": {
        "colab": {
          "base_uri": "https://localhost:8080/"
        },
        "id": "_Dym2nzB3BOL",
        "outputId": "ba9d98fc-0500-4ef4-ee57-2f40a61f58d6"
      },
      "execution_count": null,
      "outputs": [
        {
          "output_type": "stream",
          "name": "stdout",
          "text": [
            "-104.54921499984 19.50612713850 6369664485.41263103485\n"
          ]
        }
      ]
    },
    {
      "cell_type": "code",
      "source": [
        "#tnmt:\n",
        "X=-1.48261924100000e+06\n",
        "Y=-5.82754384830000e+06\n",
        "Z=2.12519280690000e+06\n",
        "\n",
        "coord = xyz2gd(X,Y,Z)\n",
        "TNMT_long1 = \"{:.11f}\".format(coord[3])\n",
        "TNMT_lat = \"{:.11f}\".format(coord[4])\n",
        "TNMT_alt = \"{:.11f}\".format(coord[2])\n",
        "print (TNMT_long1,TNMT_lat,TNMT_alt)"
      ],
      "metadata": {
        "colab": {
          "base_uri": "https://localhost:8080/"
        },
        "id": "Mdym8lpZ3TM7",
        "outputId": "5677c15d-abd4-46ce-c82b-cf70669b2b67"
      },
      "execution_count": null,
      "outputs": [
        {
          "output_type": "stream",
          "name": "stdout",
          "text": [
            "-104.27411900005 19.58575594574 6371309689.14760589600\n"
          ]
        }
      ]
    },
    {
      "cell_type": "code",
      "source": [
        "#tntm:\n",
        "X=-1.53781331870000e+06\n",
        "Y=-5.82453952750000e+06\n",
        "Z=2.08836547950000e+06\n",
        "\n",
        "coord = xyz2gd(X,Y,Z)\n",
        "TNTM_long1 = \"{:.11f}\".format(coord[3])\n",
        "TNTM_lat = \"{:.11f}\".format(coord[4])\n",
        "TNTM_alt = \"{:.11f}\".format(coord[2])\n",
        "print (TNTM_long1,TNTM_lat,TNTM_alt)"
      ],
      "metadata": {
        "colab": {
          "base_uri": "https://localhost:8080/"
        },
        "id": "OIQ1ng8s3lN9",
        "outputId": "292a3f29-0ede-4582-a21c-03ef83adfd5f"
      },
      "execution_count": null,
      "outputs": [
        {
          "output_type": "stream",
          "name": "stdout",
          "text": [
            "-104.78991800005 19.23914823879 6369469279.14410114288\n"
          ]
        }
      ]
    },
    {
      "cell_type": "code",
      "source": [
        "#Sismo 19 sep 2022:\n",
        "lat=18.24\n",
        "longi=-103.29"
      ],
      "metadata": {
        "id": "7_ImBxXoGndY"
      },
      "execution_count": null,
      "outputs": []
    },
    {
      "cell_type": "code",
      "source": [
        "EstacionesX=[FORS_long1,INCA_long1,NEVA_long1,STOK_long1,TECO_long1,TNAM_long1,TNCC_long1,TNCM_long1,TNCT_long1,TNLC_long1,TNMT_long1,TNTM_long1]\n",
        "EstacionesY=[FORS_lat,INCA_lat,NEVA_lat,STOK_lat,TECO_lat,TNAM_lat,TNCC_lat,TNCM_lat,TNCT_lat,TNLC_lat,TNMT_lat,TNTM_lat]\n",
        "nombres = ['FORS', 'INCA', 'NEVA', 'STOK', 'TECO', 'TNAM', 'TNCC','TNCM','TNCT','TNLC','TNMT','TNTM']"
      ],
      "metadata": {
        "id": "-xP9I5FaHK44"
      },
      "execution_count": null,
      "outputs": []
    },
    {
      "cell_type": "code",
      "source": [
        "import csv\n",
        "\n",
        "# Combinar las variables en una lista de tuplas\n",
        "data = zip(nombres, EstacionesX, EstacionesY)\n",
        "\n",
        "# Nombre del archivo CSV\n",
        "nombre_archivo = 'estaciones.csv'\n",
        "\n",
        "# Escribir los datos en el archivo CSV\n",
        "with open(nombre_archivo, 'w', newline='') as archivo:\n",
        "    escritor_csv = csv.writer(archivo)\n",
        "\n",
        "    # Escribir encabezados\n",
        "    escritor_csv.writerow(['Nombre', 'Longitud', 'Latitud'])\n",
        "\n",
        "    # Escribir datos\n",
        "    for estacion in data:\n",
        "        escritor_csv.writerow(estacion)"
      ],
      "metadata": {
        "id": "PPTkGhXgubJZ"
      },
      "execution_count": null,
      "outputs": []
    },
    {
      "cell_type": "code",
      "source": [
        "plt.plot(longi,lat,'*')\n",
        "plt.plot(EstacionesX,EstacionesY,'*')\n",
        "\n",
        "# Agregar etiquetas a cada punto\n",
        "for i, txt in enumerate(nombres):\n",
        "    plt.text(EstacionesX[i], EstacionesY[i], txt, ha='right')\n",
        "\n",
        "plt.grid(True)\n",
        "\n",
        "plt.show()"
      ],
      "metadata": {
        "colab": {
          "base_uri": "https://localhost:8080/",
          "height": 430
        },
        "id": "bdg7O8EdG5Ag",
        "outputId": "abcfbab9-9574-4a86-cbd0-2458bd585d70"
      },
      "execution_count": null,
      "outputs": [
        {
          "output_type": "display_data",
          "data": {
            "text/plain": [
              "<Figure size 640x480 with 1 Axes>"
            ],
            "image/png": "[encoded data removed]"
          },
          "metadata": {}
        }
      ]
    }
  ]
}